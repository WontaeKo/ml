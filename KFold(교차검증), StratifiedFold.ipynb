{
 "cells": [
  {
   "cell_type": "markdown",
   "id": "0c9f00bd",
   "metadata": {},
   "source": [
    "### sklearn.model_selection.KFold\n",
    "\n",
    "* class sklearn.model_selection.KFold(n_splits=5, *, shuffle=False, random_state=None)[source]¶\n"
   ]
  },
  {
   "cell_type": "markdown",
   "id": "67a54838",
   "metadata": {},
   "source": [
    "Parameters:\n",
    "\n",
    "n_splitsint, default=5\n",
    "\n",
    "Number of folds. Must be at least 2.\n",
    "\n",
    "Changed in version 0.22: n_splits default value changed from 3 to 5.\n",
    "\n",
    "shufflebool, default=False\n",
    "\n",
    "Whether to shuffle the data before splitting into batches. Note that the samples within each split will not be shuffled.\n",
    "\n",
    "random_stateint, RandomState instance or None, default=None\n",
    "\n",
    "When shuffle is True, random_state affects the ordering of the indices, which controls the randomness of each fold. Otherwise, this parameter has no effect. Pass an int for reproducible output across multiple function calls. See Glossary."
   ]
  },
  {
   "cell_type": "code",
   "execution_count": 16,
   "id": "e81e857d",
   "metadata": {
    "ExecuteTime": {
     "end_time": "2023-01-27T02:05:19.410858Z",
     "start_time": "2023-01-27T02:05:19.398501Z"
    }
   },
   "outputs": [
    {
     "name": "stdout",
     "output_type": "stream",
     "text": [
      "붓꽃 데이터 세트 크기: 150\n"
     ]
    }
   ],
   "source": [
    "from sklearn.datasets import load_iris\n",
    "from sklearn.tree import DecisionTreeClassifier\n",
    "from sklearn.metrics import accuracy_score\n",
    "from sklearn.model_selection import KFold\n",
    "from sklearn.model_selection import train_test_split\n",
    "import numpy as np\n",
    "\n",
    "iris = load_iris()\n",
    "features = iris.data\n",
    "label = iris.target\n",
    "df_clf = DecisionTreeClassifier(random_state = 156)\n",
    "iris_data = load_iris()\n",
    "\n",
    "X_train, X_test, y_train, y_test = train_test_split(iris_data.data, iris_data.target, test_size = 0.2, random_state=100)\n",
    "\n",
    "Kfold = KFold(n_splits=5)\n",
    "cv_accuracy = []\n",
    "print('붓꽃 데이터 세트 크기:', features.shape[0])"
   ]
  },
  {
   "cell_type": "code",
   "execution_count": null,
   "id": "4d8bf6e0",
   "metadata": {
    "ExecuteTime": {
     "start_time": "2023-01-27T04:07:00.832Z"
    }
   },
   "outputs": [],
   "source": [
    "from sklearn.datasets import load_iris\n",
    "iris = load_iris()"
   ]
  },
  {
   "cell_type": "code",
   "execution_count": null,
   "id": "b934c813",
   "metadata": {
    "ExecuteTime": {
     "start_time": "2023-01-27T04:07:03.741Z"
    }
   },
   "outputs": [],
   "source": [
    "iris"
   ]
  },
  {
   "cell_type": "code",
   "execution_count": 7,
   "id": "5f04b549",
   "metadata": {
    "ExecuteTime": {
     "end_time": "2023-01-27T02:20:48.541360Z",
     "start_time": "2023-01-27T02:20:48.535187Z"
    }
   },
   "outputs": [
    {
     "data": {
      "text/plain": [
       "dict_keys(['data', 'target', 'frame', 'target_names', 'DESCR', 'feature_names', 'filename', 'data_module'])"
      ]
     },
     "execution_count": 7,
     "metadata": {},
     "output_type": "execute_result"
    }
   ],
   "source": [
    "iris.keys()"
   ]
  },
  {
   "cell_type": "markdown",
   "id": "22c9ae12",
   "metadata": {},
   "source": [
    "### pandas.DataFrame\n",
    "* class pandas.DataFrame(data=None, index=None, columns=None, dtype=None, copy=None)"
   ]
  },
  {
   "cell_type": "code",
   "execution_count": 8,
   "id": "0bcbdb82",
   "metadata": {
    "ExecuteTime": {
     "end_time": "2023-01-27T02:20:50.701036Z",
     "start_time": "2023-01-27T02:20:50.693724Z"
    }
   },
   "outputs": [],
   "source": [
    "import pandas as pd\n",
    "\n",
    "iris_df = pd.DataFrame(iris.data, columns=iris.feature_names)"
   ]
  },
  {
   "cell_type": "code",
   "execution_count": 11,
   "id": "c4c1e8a3",
   "metadata": {
    "ExecuteTime": {
     "end_time": "2023-01-27T02:21:20.809240Z",
     "start_time": "2023-01-27T02:21:20.774499Z"
    }
   },
   "outputs": [
    {
     "data": {
      "text/html": [
       "<div>\n",
       "<style scoped>\n",
       "    .dataframe tbody tr th:only-of-type {\n",
       "        vertical-align: middle;\n",
       "    }\n",
       "\n",
       "    .dataframe tbody tr th {\n",
       "        vertical-align: top;\n",
       "    }\n",
       "\n",
       "    .dataframe thead th {\n",
       "        text-align: right;\n",
       "    }\n",
       "</style>\n",
       "<table border=\"1\" class=\"dataframe\">\n",
       "  <thead>\n",
       "    <tr style=\"text-align: right;\">\n",
       "      <th></th>\n",
       "      <th>sepal length (cm)</th>\n",
       "      <th>sepal width (cm)</th>\n",
       "      <th>petal length (cm)</th>\n",
       "      <th>petal width (cm)</th>\n",
       "      <th>label</th>\n",
       "    </tr>\n",
       "  </thead>\n",
       "  <tbody>\n",
       "    <tr>\n",
       "      <th>0</th>\n",
       "      <td>5.1</td>\n",
       "      <td>3.5</td>\n",
       "      <td>1.4</td>\n",
       "      <td>0.2</td>\n",
       "      <td>0</td>\n",
       "    </tr>\n",
       "    <tr>\n",
       "      <th>1</th>\n",
       "      <td>4.9</td>\n",
       "      <td>3.0</td>\n",
       "      <td>1.4</td>\n",
       "      <td>0.2</td>\n",
       "      <td>0</td>\n",
       "    </tr>\n",
       "    <tr>\n",
       "      <th>2</th>\n",
       "      <td>4.7</td>\n",
       "      <td>3.2</td>\n",
       "      <td>1.3</td>\n",
       "      <td>0.2</td>\n",
       "      <td>0</td>\n",
       "    </tr>\n",
       "    <tr>\n",
       "      <th>3</th>\n",
       "      <td>4.6</td>\n",
       "      <td>3.1</td>\n",
       "      <td>1.5</td>\n",
       "      <td>0.2</td>\n",
       "      <td>0</td>\n",
       "    </tr>\n",
       "    <tr>\n",
       "      <th>4</th>\n",
       "      <td>5.0</td>\n",
       "      <td>3.6</td>\n",
       "      <td>1.4</td>\n",
       "      <td>0.2</td>\n",
       "      <td>0</td>\n",
       "    </tr>\n",
       "    <tr>\n",
       "      <th>...</th>\n",
       "      <td>...</td>\n",
       "      <td>...</td>\n",
       "      <td>...</td>\n",
       "      <td>...</td>\n",
       "      <td>...</td>\n",
       "    </tr>\n",
       "    <tr>\n",
       "      <th>145</th>\n",
       "      <td>6.7</td>\n",
       "      <td>3.0</td>\n",
       "      <td>5.2</td>\n",
       "      <td>2.3</td>\n",
       "      <td>2</td>\n",
       "    </tr>\n",
       "    <tr>\n",
       "      <th>146</th>\n",
       "      <td>6.3</td>\n",
       "      <td>2.5</td>\n",
       "      <td>5.0</td>\n",
       "      <td>1.9</td>\n",
       "      <td>2</td>\n",
       "    </tr>\n",
       "    <tr>\n",
       "      <th>147</th>\n",
       "      <td>6.5</td>\n",
       "      <td>3.0</td>\n",
       "      <td>5.2</td>\n",
       "      <td>2.0</td>\n",
       "      <td>2</td>\n",
       "    </tr>\n",
       "    <tr>\n",
       "      <th>148</th>\n",
       "      <td>6.2</td>\n",
       "      <td>3.4</td>\n",
       "      <td>5.4</td>\n",
       "      <td>2.3</td>\n",
       "      <td>2</td>\n",
       "    </tr>\n",
       "    <tr>\n",
       "      <th>149</th>\n",
       "      <td>5.9</td>\n",
       "      <td>3.0</td>\n",
       "      <td>5.1</td>\n",
       "      <td>1.8</td>\n",
       "      <td>2</td>\n",
       "    </tr>\n",
       "  </tbody>\n",
       "</table>\n",
       "<p>150 rows × 5 columns</p>\n",
       "</div>"
      ],
      "text/plain": [
       "     sepal length (cm)  sepal width (cm)  petal length (cm)  petal width (cm)  \\\n",
       "0                  5.1               3.5                1.4               0.2   \n",
       "1                  4.9               3.0                1.4               0.2   \n",
       "2                  4.7               3.2                1.3               0.2   \n",
       "3                  4.6               3.1                1.5               0.2   \n",
       "4                  5.0               3.6                1.4               0.2   \n",
       "..                 ...               ...                ...               ...   \n",
       "145                6.7               3.0                5.2               2.3   \n",
       "146                6.3               2.5                5.0               1.9   \n",
       "147                6.5               3.0                5.2               2.0   \n",
       "148                6.2               3.4                5.4               2.3   \n",
       "149                5.9               3.0                5.1               1.8   \n",
       "\n",
       "     label  \n",
       "0        0  \n",
       "1        0  \n",
       "2        0  \n",
       "3        0  \n",
       "4        0  \n",
       "..     ...  \n",
       "145      2  \n",
       "146      2  \n",
       "147      2  \n",
       "148      2  \n",
       "149      2  \n",
       "\n",
       "[150 rows x 5 columns]"
      ]
     },
     "execution_count": 11,
     "metadata": {},
     "output_type": "execute_result"
    }
   ],
   "source": [
    "iris_df"
   ]
  },
  {
   "cell_type": "code",
   "execution_count": 9,
   "id": "4b19ca49",
   "metadata": {
    "ExecuteTime": {
     "end_time": "2023-01-27T02:20:54.510893Z",
     "start_time": "2023-01-27T02:20:54.503276Z"
    }
   },
   "outputs": [],
   "source": [
    "iris_df['label'] = iris.target"
   ]
  },
  {
   "cell_type": "code",
   "execution_count": 10,
   "id": "7bec9ba8",
   "metadata": {
    "ExecuteTime": {
     "end_time": "2023-01-27T02:20:56.212278Z",
     "start_time": "2023-01-27T02:20:56.190628Z"
    }
   },
   "outputs": [
    {
     "name": "stdout",
     "output_type": "stream",
     "text": [
      "<class 'pandas.core.frame.DataFrame'>\n",
      "RangeIndex: 150 entries, 0 to 149\n",
      "Data columns (total 5 columns):\n",
      " #   Column             Non-Null Count  Dtype  \n",
      "---  ------             --------------  -----  \n",
      " 0   sepal length (cm)  150 non-null    float64\n",
      " 1   sepal width (cm)   150 non-null    float64\n",
      " 2   petal length (cm)  150 non-null    float64\n",
      " 3   petal width (cm)   150 non-null    float64\n",
      " 4   label              150 non-null    int32  \n",
      "dtypes: float64(4), int32(1)\n",
      "memory usage: 5.4 KB\n"
     ]
    }
   ],
   "source": [
    "iris_df.info()"
   ]
  },
  {
   "cell_type": "code",
   "execution_count": 12,
   "id": "63e375d3",
   "metadata": {
    "ExecuteTime": {
     "end_time": "2023-01-27T02:23:46.602422Z",
     "start_time": "2023-01-27T02:23:46.198240Z"
    }
   },
   "outputs": [],
   "source": [
    "from sklearn.tree import DecisionTreeClassifier\n",
    "from sklearn.metrics import accuracy_score\n",
    "from sklearn.model_selection import KFold\n"
   ]
  },
  {
   "cell_type": "code",
   "execution_count": 22,
   "id": "df2ab57c",
   "metadata": {
    "ExecuteTime": {
     "end_time": "2023-01-27T04:51:17.113811Z",
     "start_time": "2023-01-27T04:51:17.110673Z"
    }
   },
   "outputs": [],
   "source": [
    "dt_clf = DecisionTreeClassifier(random_state=0)\n",
    "kf = KFold(n_splits=5)"
   ]
  },
  {
   "cell_type": "markdown",
   "id": "8e374fd3",
   "metadata": {},
   "source": [
    "### sklearn.model_selection.train_test_split\n",
    "sklearn.model_selection.train_test_split(*arrays, test_size=None, train_size=None, random_state=None, shuffle=True, stratify=None)[source]"
   ]
  },
  {
   "cell_type": "code",
   "execution_count": 23,
   "id": "6c5f806d",
   "metadata": {
    "ExecuteTime": {
     "end_time": "2023-01-27T04:51:17.733564Z",
     "start_time": "2023-01-27T04:51:17.727757Z"
    }
   },
   "outputs": [],
   "source": [
    "from sklearn.model_selection import train_test_split\n",
    "X_train, X_test, y_train, y_test = train_test_split(iris.data, iris.target, test_size=0.2, random_state=42)"
   ]
  },
  {
   "cell_type": "code",
   "execution_count": 24,
   "id": "1aeb24ce",
   "metadata": {
    "ExecuteTime": {
     "end_time": "2023-01-27T04:51:17.975501Z",
     "start_time": "2023-01-27T04:51:17.970410Z"
    }
   },
   "outputs": [
    {
     "data": {
      "text/plain": [
       "<generator object _BaseKFold.split at 0x000001660AE6E560>"
      ]
     },
     "execution_count": 24,
     "metadata": {},
     "output_type": "execute_result"
    }
   ],
   "source": [
    "kf.split(X_train)"
   ]
  },
  {
   "cell_type": "markdown",
   "id": "f6148b18",
   "metadata": {},
   "source": [
    "### Q : object를 어떻게 풀지? -> For 문"
   ]
  },
  {
   "cell_type": "code",
   "execution_count": 25,
   "id": "0013eede",
   "metadata": {
    "ExecuteTime": {
     "end_time": "2023-01-27T04:51:18.403786Z",
     "start_time": "2023-01-27T04:51:18.398206Z"
    }
   },
   "outputs": [
    {
     "name": "stdout",
     "output_type": "stream",
     "text": [
      "(array([ 24,  25,  26,  27,  28,  29,  30,  31,  32,  33,  34,  35,  36,\n",
      "        37,  38,  39,  40,  41,  42,  43,  44,  45,  46,  47,  48,  49,\n",
      "        50,  51,  52,  53,  54,  55,  56,  57,  58,  59,  60,  61,  62,\n",
      "        63,  64,  65,  66,  67,  68,  69,  70,  71,  72,  73,  74,  75,\n",
      "        76,  77,  78,  79,  80,  81,  82,  83,  84,  85,  86,  87,  88,\n",
      "        89,  90,  91,  92,  93,  94,  95,  96,  97,  98,  99, 100, 101,\n",
      "       102, 103, 104, 105, 106, 107, 108, 109, 110, 111, 112, 113, 114,\n",
      "       115, 116, 117, 118, 119]), array([ 0,  1,  2,  3,  4,  5,  6,  7,  8,  9, 10, 11, 12, 13, 14, 15, 16,\n",
      "       17, 18, 19, 20, 21, 22, 23]))\n",
      "(array([  0,   1,   2,   3,   4,   5,   6,   7,   8,   9,  10,  11,  12,\n",
      "        13,  14,  15,  16,  17,  18,  19,  20,  21,  22,  23,  48,  49,\n",
      "        50,  51,  52,  53,  54,  55,  56,  57,  58,  59,  60,  61,  62,\n",
      "        63,  64,  65,  66,  67,  68,  69,  70,  71,  72,  73,  74,  75,\n",
      "        76,  77,  78,  79,  80,  81,  82,  83,  84,  85,  86,  87,  88,\n",
      "        89,  90,  91,  92,  93,  94,  95,  96,  97,  98,  99, 100, 101,\n",
      "       102, 103, 104, 105, 106, 107, 108, 109, 110, 111, 112, 113, 114,\n",
      "       115, 116, 117, 118, 119]), array([24, 25, 26, 27, 28, 29, 30, 31, 32, 33, 34, 35, 36, 37, 38, 39, 40,\n",
      "       41, 42, 43, 44, 45, 46, 47]))\n",
      "(array([  0,   1,   2,   3,   4,   5,   6,   7,   8,   9,  10,  11,  12,\n",
      "        13,  14,  15,  16,  17,  18,  19,  20,  21,  22,  23,  24,  25,\n",
      "        26,  27,  28,  29,  30,  31,  32,  33,  34,  35,  36,  37,  38,\n",
      "        39,  40,  41,  42,  43,  44,  45,  46,  47,  72,  73,  74,  75,\n",
      "        76,  77,  78,  79,  80,  81,  82,  83,  84,  85,  86,  87,  88,\n",
      "        89,  90,  91,  92,  93,  94,  95,  96,  97,  98,  99, 100, 101,\n",
      "       102, 103, 104, 105, 106, 107, 108, 109, 110, 111, 112, 113, 114,\n",
      "       115, 116, 117, 118, 119]), array([48, 49, 50, 51, 52, 53, 54, 55, 56, 57, 58, 59, 60, 61, 62, 63, 64,\n",
      "       65, 66, 67, 68, 69, 70, 71]))\n",
      "(array([  0,   1,   2,   3,   4,   5,   6,   7,   8,   9,  10,  11,  12,\n",
      "        13,  14,  15,  16,  17,  18,  19,  20,  21,  22,  23,  24,  25,\n",
      "        26,  27,  28,  29,  30,  31,  32,  33,  34,  35,  36,  37,  38,\n",
      "        39,  40,  41,  42,  43,  44,  45,  46,  47,  48,  49,  50,  51,\n",
      "        52,  53,  54,  55,  56,  57,  58,  59,  60,  61,  62,  63,  64,\n",
      "        65,  66,  67,  68,  69,  70,  71,  96,  97,  98,  99, 100, 101,\n",
      "       102, 103, 104, 105, 106, 107, 108, 109, 110, 111, 112, 113, 114,\n",
      "       115, 116, 117, 118, 119]), array([72, 73, 74, 75, 76, 77, 78, 79, 80, 81, 82, 83, 84, 85, 86, 87, 88,\n",
      "       89, 90, 91, 92, 93, 94, 95]))\n",
      "(array([ 0,  1,  2,  3,  4,  5,  6,  7,  8,  9, 10, 11, 12, 13, 14, 15, 16,\n",
      "       17, 18, 19, 20, 21, 22, 23, 24, 25, 26, 27, 28, 29, 30, 31, 32, 33,\n",
      "       34, 35, 36, 37, 38, 39, 40, 41, 42, 43, 44, 45, 46, 47, 48, 49, 50,\n",
      "       51, 52, 53, 54, 55, 56, 57, 58, 59, 60, 61, 62, 63, 64, 65, 66, 67,\n",
      "       68, 69, 70, 71, 72, 73, 74, 75, 76, 77, 78, 79, 80, 81, 82, 83, 84,\n",
      "       85, 86, 87, 88, 89, 90, 91, 92, 93, 94, 95]), array([ 96,  97,  98,  99, 100, 101, 102, 103, 104, 105, 106, 107, 108,\n",
      "       109, 110, 111, 112, 113, 114, 115, 116, 117, 118, 119]))\n"
     ]
    }
   ],
   "source": [
    "for i in kf.split(X_train):\n",
    "    print(i)"
   ]
  },
  {
   "cell_type": "markdown",
   "id": "a9f9c8fd",
   "metadata": {
    "ExecuteTime": {
     "end_time": "2023-01-27T02:37:03.842735Z",
     "start_time": "2023-01-27T02:37:03.831925Z"
    }
   },
   "source": [
    "### -> 편향 되어있음 -> stratified 하면 편향 없어짐"
   ]
  },
  {
   "cell_type": "code",
   "execution_count": 26,
   "id": "0e0bb405",
   "metadata": {
    "ExecuteTime": {
     "end_time": "2023-01-27T04:51:18.960929Z",
     "start_time": "2023-01-27T04:51:18.955996Z"
    }
   },
   "outputs": [
    {
     "name": "stdout",
     "output_type": "stream",
     "text": [
      "[ 24  25  26  27  28  29  30  31  32  33  34  35  36  37  38  39  40  41\n",
      "  42  43  44  45  46  47  48  49  50  51  52  53  54  55  56  57  58  59\n",
      "  60  61  62  63  64  65  66  67  68  69  70  71  72  73  74  75  76  77\n",
      "  78  79  80  81  82  83  84  85  86  87  88  89  90  91  92  93  94  95\n",
      "  96  97  98  99 100 101 102 103 104 105 106 107 108 109 110 111 112 113\n",
      " 114 115 116 117 118 119]\n",
      "[  0   1   2   3   4   5   6   7   8   9  10  11  12  13  14  15  16  17\n",
      "  18  19  20  21  22  23  48  49  50  51  52  53  54  55  56  57  58  59\n",
      "  60  61  62  63  64  65  66  67  68  69  70  71  72  73  74  75  76  77\n",
      "  78  79  80  81  82  83  84  85  86  87  88  89  90  91  92  93  94  95\n",
      "  96  97  98  99 100 101 102 103 104 105 106 107 108 109 110 111 112 113\n",
      " 114 115 116 117 118 119]\n",
      "[  0   1   2   3   4   5   6   7   8   9  10  11  12  13  14  15  16  17\n",
      "  18  19  20  21  22  23  24  25  26  27  28  29  30  31  32  33  34  35\n",
      "  36  37  38  39  40  41  42  43  44  45  46  47  72  73  74  75  76  77\n",
      "  78  79  80  81  82  83  84  85  86  87  88  89  90  91  92  93  94  95\n",
      "  96  97  98  99 100 101 102 103 104 105 106 107 108 109 110 111 112 113\n",
      " 114 115 116 117 118 119]\n",
      "[  0   1   2   3   4   5   6   7   8   9  10  11  12  13  14  15  16  17\n",
      "  18  19  20  21  22  23  24  25  26  27  28  29  30  31  32  33  34  35\n",
      "  36  37  38  39  40  41  42  43  44  45  46  47  48  49  50  51  52  53\n",
      "  54  55  56  57  58  59  60  61  62  63  64  65  66  67  68  69  70  71\n",
      "  96  97  98  99 100 101 102 103 104 105 106 107 108 109 110 111 112 113\n",
      " 114 115 116 117 118 119]\n",
      "[ 0  1  2  3  4  5  6  7  8  9 10 11 12 13 14 15 16 17 18 19 20 21 22 23\n",
      " 24 25 26 27 28 29 30 31 32 33 34 35 36 37 38 39 40 41 42 43 44 45 46 47\n",
      " 48 49 50 51 52 53 54 55 56 57 58 59 60 61 62 63 64 65 66 67 68 69 70 71\n",
      " 72 73 74 75 76 77 78 79 80 81 82 83 84 85 86 87 88 89 90 91 92 93 94 95]\n"
     ]
    }
   ],
   "source": [
    "for i, j in kf.split(X_train):\n",
    "    print(i)"
   ]
  },
  {
   "cell_type": "code",
   "execution_count": 27,
   "id": "000caded",
   "metadata": {
    "ExecuteTime": {
     "end_time": "2023-01-27T04:51:19.250621Z",
     "start_time": "2023-01-27T04:51:19.244443Z"
    }
   },
   "outputs": [
    {
     "data": {
      "text/plain": [
       "array([ 0,  1,  2,  3,  4,  5,  6,  7,  8,  9, 10, 11, 12, 13, 14, 15, 16,\n",
       "       17, 18, 19, 20, 21, 22, 23, 24, 25, 26, 27, 28, 29, 30, 31, 32, 33,\n",
       "       34, 35, 36, 37, 38, 39, 40, 41, 42, 43, 44, 45, 46, 47, 48, 49, 50,\n",
       "       51, 52, 53, 54, 55, 56, 57, 58, 59, 60, 61, 62, 63, 64, 65, 66, 67,\n",
       "       68, 69, 70, 71, 72, 73, 74, 75, 76, 77, 78, 79, 80, 81, 82, 83, 84,\n",
       "       85, 86, 87, 88, 89, 90, 91, 92, 93, 94, 95])"
      ]
     },
     "execution_count": 27,
     "metadata": {},
     "output_type": "execute_result"
    }
   ],
   "source": [
    "i"
   ]
  },
  {
   "cell_type": "code",
   "execution_count": 28,
   "id": "802829f4",
   "metadata": {
    "ExecuteTime": {
     "end_time": "2023-01-27T04:51:19.533818Z",
     "start_time": "2023-01-27T04:51:19.529933Z"
    }
   },
   "outputs": [],
   "source": [
    "cv_accuracy = []"
   ]
  },
  {
   "cell_type": "code",
   "execution_count": 29,
   "id": "d58cf247",
   "metadata": {
    "ExecuteTime": {
     "end_time": "2023-01-27T04:51:20.547131Z",
     "start_time": "2023-01-27T04:51:20.542976Z"
    }
   },
   "outputs": [
    {
     "data": {
      "text/plain": [
       "[]"
      ]
     },
     "execution_count": 29,
     "metadata": {},
     "output_type": "execute_result"
    }
   ],
   "source": [
    "cv_accuracy\n"
   ]
  },
  {
   "cell_type": "code",
   "execution_count": 30,
   "id": "1f6228ad",
   "metadata": {
    "ExecuteTime": {
     "end_time": "2023-01-27T04:51:20.832648Z",
     "start_time": "2023-01-27T04:51:20.829077Z"
    }
   },
   "outputs": [],
   "source": [
    "n_iter = 0"
   ]
  },
  {
   "cell_type": "code",
   "execution_count": 37,
   "id": "b474fb17",
   "metadata": {
    "ExecuteTime": {
     "end_time": "2023-01-27T05:09:13.824674Z",
     "start_time": "2023-01-27T05:09:13.795964Z"
    }
   },
   "outputs": [
    {
     "name": "stdout",
     "output_type": "stream",
     "text": [
      "0.9583\n",
      "1 교차검증 정확도 : 0.9583, 학습데이터의 크기 : 96 , 검증데이터의 크기 : 24\n",
      "1 검증 세트 인덱스[ 0  1  2  3  4  5  6  7  8  9 10 11 12 13 14 15 16 17 18 19 20 21 22 23]\n",
      "1.0\n",
      "2 교차검증 정확도 : 1.0, 학습데이터의 크기 : 96 , 검증데이터의 크기 : 24\n",
      "2 검증 세트 인덱스[24 25 26 27 28 29 30 31 32 33 34 35 36 37 38 39 40 41 42 43 44 45 46 47]\n",
      "0.8333\n",
      "3 교차검증 정확도 : 0.8333, 학습데이터의 크기 : 96 , 검증데이터의 크기 : 24\n",
      "3 검증 세트 인덱스[48 49 50 51 52 53 54 55 56 57 58 59 60 61 62 63 64 65 66 67 68 69 70 71]\n",
      "0.9583\n",
      "4 교차검증 정확도 : 0.9583, 학습데이터의 크기 : 96 , 검증데이터의 크기 : 24\n",
      "4 검증 세트 인덱스[72 73 74 75 76 77 78 79 80 81 82 83 84 85 86 87 88 89 90 91 92 93 94 95]\n",
      "0.9167\n",
      "5 교차검증 정확도 : 0.9167, 학습데이터의 크기 : 96 , 검증데이터의 크기 : 24\n",
      "5 검증 세트 인덱스[ 96  97  98  99 100 101 102 103 104 105 106 107 108 109 110 111 112 113\n",
      " 114 115 116 117 118 119]\n"
     ]
    }
   ],
   "source": [
    "cv_accuracy = []\n",
    "n_iter = 0\n",
    "# KFold객체의 split() 호출하면 폴드 별 학습용, 검증용 테스트으 로우 인덱스를 array로 반환\n",
    "for train_index, valid_index in kf.split(X_train):\n",
    "    # kfold,split()으로 변환된 인덱스를 이용하여 학습용, 검증용 테스트 데이터 추출\n",
    "    X_train1, X_valid = X_train[train_index], X_train[valid_index]\n",
    "    y_train1, y_valid = y_train[train_index], y_train[valid_index]\n",
    "    # 학습 및 예측\n",
    "    dt_clf.fit(X_train1, y_train1)\n",
    "    pred = dt_clf.predict(X_valid)\n",
    "    n_iter += 1\n",
    "    # 반복 시마다 정확도 측정\n",
    "    # accuracy = np.round(np.mean(pred == y_valid), 4)와 같다.\n",
    "    accuracy = np.round(accuracy_score(y_valid,pred), 4)\n",
    "    print(accuracy)\n",
    "    cv_accuracy.append(accuracy)\n",
    "    train_size = X_train1.shape[0]\n",
    "    test_size = X_valid.shape[0]\n",
    "    print(f'{n_iter} 교차검증 정확도 : {accuracy}, 학습데이터의 크기 : {train_size} , 검증데이터의 크기 : {test_size}')\n",
    "    print(f'{n_iter} 검증 세트 인덱스{valid_index}')    \n",
    "\n",
    "    "
   ]
  },
  {
   "cell_type": "code",
   "execution_count": 38,
   "id": "4e3f3f91",
   "metadata": {
    "ExecuteTime": {
     "end_time": "2023-01-27T05:18:35.732184Z",
     "start_time": "2023-01-27T05:18:35.727242Z"
    }
   },
   "outputs": [
    {
     "data": {
      "text/plain": [
       "0.9333199999999999"
      ]
     },
     "execution_count": 38,
     "metadata": {},
     "output_type": "execute_result"
    }
   ],
   "source": [
    "import numpy as np\n",
    "np.mean(cv_accuracy)"
   ]
  },
  {
   "cell_type": "markdown",
   "id": "ddffd593",
   "metadata": {},
   "source": [
    "### sklearn.model_selection.StratifiedKFold\n",
    "* class sklearn.model_selection.StratifiedKFold(n_splits=5, *, shuffle=False, random_state=None)[source]"
   ]
  },
  {
   "cell_type": "markdown",
   "id": "daa99e0d",
   "metadata": {},
   "source": [
    "Parameters:\n",
    "\n",
    "**n_splits**int, default=5\n",
    "\n",
    "Number of folds. Must be at least 2.\n",
    "\n",
    "Changed in version 0.22: `n_splits`  default value changed from 3 to 5.\n",
    "\n",
    "**shuffle**bool, default=False\n",
    "\n",
    "Whether to shuffle each class’s samples before splitting into batches. Note that the samples within each split will not be shuffled.\n",
    "\n",
    "**random_state**int, RandomState instance or None, default=None\n",
    "\n",
    "When  `shuffle`  is True,  `random_state`  affects the ordering of the indices, which controls the randomness of each fold for each class. Otherwise, leave  `random_state`  as  `None`. Pass an int for reproducible output across multiple function calls. See  [Glossary](https://scikit-learn.org/stable/glossary.html#term-random_state)."
   ]
  },
  {
   "cell_type": "code",
   "execution_count": 47,
   "id": "a9d9de2e",
   "metadata": {
    "ExecuteTime": {
     "end_time": "2023-01-27T06:25:55.269257Z",
     "start_time": "2023-01-27T06:25:55.220089Z"
    }
   },
   "outputs": [
    {
     "name": "stdout",
     "output_type": "stream",
     "text": [
      "## 교차 검증: 1\n",
      "학습 레이블 데이터 분포:\n",
      " 0    40\n",
      "1    40\n",
      "2    40\n",
      "Name: label, dtype: int64\n",
      "검증 레이블 데이터 분포:\n",
      " 0    10\n",
      "1    10\n",
      "2    10\n",
      "Name: label, dtype: int64\n",
      "[ 10  11  12  13  14  15  16  17  18  19  20  21  22  23  24  25  26  27\n",
      "  28  29  30  31  32  33  34  35  36  37  38  39  40  41  42  43  44  45\n",
      "  46  47  48  49  60  61  62  63  64  65  66  67  68  69  70  71  72  73\n",
      "  74  75  76  77  78  79  80  81  82  83  84  85  86  87  88  89  90  91\n",
      "  92  93  94  95  96  97  98  99 110 111 112 113 114 115 116 117 118 119\n",
      " 120 121 122 123 124 125 126 127 128 129 130 131 132 133 134 135 136 137\n",
      " 138 139 140 141 142 143 144 145 146 147 148 149]\n",
      "## 교차 검증: 2\n",
      "학습 레이블 데이터 분포:\n",
      " 0    40\n",
      "1    40\n",
      "2    40\n",
      "Name: label, dtype: int64\n",
      "검증 레이블 데이터 분포:\n",
      " 0    10\n",
      "1    10\n",
      "2    10\n",
      "Name: label, dtype: int64\n",
      "[  0   1   2   3   4   5   6   7   8   9  20  21  22  23  24  25  26  27\n",
      "  28  29  30  31  32  33  34  35  36  37  38  39  40  41  42  43  44  45\n",
      "  46  47  48  49  50  51  52  53  54  55  56  57  58  59  70  71  72  73\n",
      "  74  75  76  77  78  79  80  81  82  83  84  85  86  87  88  89  90  91\n",
      "  92  93  94  95  96  97  98  99 100 101 102 103 104 105 106 107 108 109\n",
      " 120 121 122 123 124 125 126 127 128 129 130 131 132 133 134 135 136 137\n",
      " 138 139 140 141 142 143 144 145 146 147 148 149]\n",
      "## 교차 검증: 3\n",
      "학습 레이블 데이터 분포:\n",
      " 0    40\n",
      "1    40\n",
      "2    40\n",
      "Name: label, dtype: int64\n",
      "검증 레이블 데이터 분포:\n",
      " 0    10\n",
      "1    10\n",
      "2    10\n",
      "Name: label, dtype: int64\n",
      "[  0   1   2   3   4   5   6   7   8   9  10  11  12  13  14  15  16  17\n",
      "  18  19  30  31  32  33  34  35  36  37  38  39  40  41  42  43  44  45\n",
      "  46  47  48  49  50  51  52  53  54  55  56  57  58  59  60  61  62  63\n",
      "  64  65  66  67  68  69  80  81  82  83  84  85  86  87  88  89  90  91\n",
      "  92  93  94  95  96  97  98  99 100 101 102 103 104 105 106 107 108 109\n",
      " 110 111 112 113 114 115 116 117 118 119 130 131 132 133 134 135 136 137\n",
      " 138 139 140 141 142 143 144 145 146 147 148 149]\n",
      "## 교차 검증: 4\n",
      "학습 레이블 데이터 분포:\n",
      " 0    40\n",
      "1    40\n",
      "2    40\n",
      "Name: label, dtype: int64\n",
      "검증 레이블 데이터 분포:\n",
      " 0    10\n",
      "1    10\n",
      "2    10\n",
      "Name: label, dtype: int64\n",
      "[  0   1   2   3   4   5   6   7   8   9  10  11  12  13  14  15  16  17\n",
      "  18  19  20  21  22  23  24  25  26  27  28  29  40  41  42  43  44  45\n",
      "  46  47  48  49  50  51  52  53  54  55  56  57  58  59  60  61  62  63\n",
      "  64  65  66  67  68  69  70  71  72  73  74  75  76  77  78  79  90  91\n",
      "  92  93  94  95  96  97  98  99 100 101 102 103 104 105 106 107 108 109\n",
      " 110 111 112 113 114 115 116 117 118 119 120 121 122 123 124 125 126 127\n",
      " 128 129 140 141 142 143 144 145 146 147 148 149]\n",
      "## 교차 검증: 5\n",
      "학습 레이블 데이터 분포:\n",
      " 0    40\n",
      "1    40\n",
      "2    40\n",
      "Name: label, dtype: int64\n",
      "검증 레이블 데이터 분포:\n",
      " 0    10\n",
      "1    10\n",
      "2    10\n",
      "Name: label, dtype: int64\n",
      "[  0   1   2   3   4   5   6   7   8   9  10  11  12  13  14  15  16  17\n",
      "  18  19  20  21  22  23  24  25  26  27  28  29  30  31  32  33  34  35\n",
      "  36  37  38  39  50  51  52  53  54  55  56  57  58  59  60  61  62  63\n",
      "  64  65  66  67  68  69  70  71  72  73  74  75  76  77  78  79  80  81\n",
      "  82  83  84  85  86  87  88  89 100 101 102 103 104 105 106 107 108 109\n",
      " 110 111 112 113 114 115 116 117 118 119 120 121 122 123 124 125 126 127\n",
      " 128 129 130 131 132 133 134 135 136 137 138 139]\n"
     ]
    }
   ],
   "source": [
    "from sklearn.model_selection import StratifiedKFold\n",
    "\n",
    "skf = StratifiedKFold(n_splits=5)\n",
    "n_iter = 0\n",
    "\n",
    "for train_index, test_index in skf.split(iris.data, iris_df['label']):\n",
    "    n_iter += 1\n",
    "    label_train = iris_df['label'].iloc[train_index]\n",
    "    label_test = iris_df['label'].iloc[test_index]\n",
    "    print('## 교차 검증: {0}'.format(n_iter))\n",
    "    print('학습 레이블 데이터 분포:\\n', label_train.value_counts())\n",
    "    print('검증 레이블 데이터 분포:\\n', label_test.value_counts())\n",
    "    print(train_index)"
   ]
  },
  {
   "cell_type": "code",
   "execution_count": 48,
   "id": "c5e42a57",
   "metadata": {
    "ExecuteTime": {
     "end_time": "2023-01-27T06:26:43.886863Z",
     "start_time": "2023-01-27T06:26:43.872866Z"
    }
   },
   "outputs": [
    {
     "name": "stdout",
     "output_type": "stream",
     "text": [
      "0.9667\n",
      "\n",
      "#1 교차검증 정확도 : 0.9667, 학습데이터의 크기 : 120 , 검증데이터의 크기 : 30\n",
      "#1 검증 세트 인덱스[ 40  41  42  43  44  45  46  47  48  49  90  91  92  93  94  95  96  97\n",
      "  98  99 140 141 142 143 144 145 146 147 148 149]\n",
      "0.9667\n",
      "\n",
      "#2 교차검증 정확도 : 0.9667, 학습데이터의 크기 : 120 , 검증데이터의 크기 : 30\n",
      "#2 검증 세트 인덱스[ 40  41  42  43  44  45  46  47  48  49  90  91  92  93  94  95  96  97\n",
      "  98  99 140 141 142 143 144 145 146 147 148 149]\n",
      "0.9\n",
      "\n",
      "#3 교차검증 정확도 : 0.9, 학습데이터의 크기 : 120 , 검증데이터의 크기 : 30\n",
      "#3 검증 세트 인덱스[ 40  41  42  43  44  45  46  47  48  49  90  91  92  93  94  95  96  97\n",
      "  98  99 140 141 142 143 144 145 146 147 148 149]\n",
      "0.9667\n",
      "\n",
      "#4 교차검증 정확도 : 0.9667, 학습데이터의 크기 : 120 , 검증데이터의 크기 : 30\n",
      "#4 검증 세트 인덱스[ 40  41  42  43  44  45  46  47  48  49  90  91  92  93  94  95  96  97\n",
      "  98  99 140 141 142 143 144 145 146 147 148 149]\n",
      "1.0\n",
      "\n",
      "#5 교차검증 정확도 : 1.0, 학습데이터의 크기 : 120 , 검증데이터의 크기 : 30\n",
      "#5 검증 세트 인덱스[ 40  41  42  43  44  45  46  47  48  49  90  91  92  93  94  95  96  97\n",
      "  98  99 140 141 142 143 144 145 146 147 148 149]\n",
      "\n",
      "## 교차검증 정확도: [0.9667 0.9667 0.9    0.9667 1.    ]\n",
      "## 평균 검증 정확도: 0.9600200000000001\n"
     ]
    }
   ],
   "source": [
    "cv_accuracy = []\n",
    "n_iter = 0\n",
    "skf = StratifiedKFold(n_splits = 5)\n",
    "# KFold객체의 split() 호출하면 폴드 별 학습용, 검증용 테스트으 로우 인덱스를 array로 반환\n",
    "for train_index, valid_index in skf.split(iris.data, iris.target):\n",
    "    # kfold,split()으로 변환된 인덱스를 이용하여 학습용, 검증용 테스트 데이터 추출\n",
    "    X_train1, X_valid = iris.data[train_index], iris.data[valid_index]\n",
    "    y_train1, y_valid = iris.target[train_index], iris.target[valid_index]\n",
    "    # 학습 및 예측\n",
    "    dt_clf.fit(X_train1, y_train1)\n",
    "    pred = dt_clf.predict(X_valid)\n",
    "    n_iter += 1\n",
    "    \n",
    "    # 반복 시마다 정확도 측정\n",
    "    # accuracy = np.round(np.mean(pred == y_valid), 4)와 같다.\n",
    "    accuracy = np.round(accuracy_score(y_valid,pred), 4)\n",
    "    print(accuracy)\n",
    "    cv_accuracy.append(accuracy)\n",
    "    train_size = X_train1.shape[0]\n",
    "    test_size = X_valid.shape[0]\n",
    "    print('\\n#{0} 교차검증 정확도 : {1}, 학습데이터의 크기 : {2} , 검증데이터의 크기 : {3}'\n",
    "          .format(n_iter, accuracy, train_size, test_size))\n",
    "    print( '#{0} 검증 세트 인덱스{1}'.format(n_iter, test_index)) \n",
    "    \n",
    "# 교차 검증별 정확도 및 평균 정확도 계산\n",
    "print('\\n## 교차검증 정확도:', np.round(cv_accuracy, 4))\n",
    "print('## 평균 검증 정확도:', np.mean(cv_accuracy))"
   ]
  },
  {
   "cell_type": "code",
   "execution_count": 50,
   "id": "859968ee",
   "metadata": {
    "ExecuteTime": {
     "end_time": "2023-01-27T06:48:45.218633Z",
     "start_time": "2023-01-27T06:48:45.212937Z"
    }
   },
   "outputs": [
    {
     "data": {
      "text/plain": [
       "0.9600200000000001"
      ]
     },
     "execution_count": 50,
     "metadata": {},
     "output_type": "execute_result"
    }
   ],
   "source": [
    "import numpy as np\n",
    "np.mean(cv_accuracy)"
   ]
  },
  {
   "cell_type": "code",
   "execution_count": null,
   "id": "6192cd6a",
   "metadata": {},
   "outputs": [],
   "source": []
  }
 ],
 "metadata": {
  "kernelspec": {
   "display_name": "Python 3 (ipykernel)",
   "language": "python",
   "name": "python3"
  },
  "language_info": {
   "codemirror_mode": {
    "name": "ipython",
    "version": 3
   },
   "file_extension": ".py",
   "mimetype": "text/x-python",
   "name": "python",
   "nbconvert_exporter": "python",
   "pygments_lexer": "ipython3",
   "version": "3.11.1"
  },
  "toc": {
   "base_numbering": 1,
   "nav_menu": {},
   "number_sections": true,
   "sideBar": true,
   "skip_h1_title": false,
   "title_cell": "Table of Contents",
   "title_sidebar": "Contents",
   "toc_cell": false,
   "toc_position": {},
   "toc_section_display": true,
   "toc_window_display": false
  },
  "varInspector": {
   "cols": {
    "lenName": 16,
    "lenType": 16,
    "lenVar": 40
   },
   "kernels_config": {
    "python": {
     "delete_cmd_postfix": "",
     "delete_cmd_prefix": "del ",
     "library": "var_list.py",
     "varRefreshCmd": "print(var_dic_list())"
    },
    "r": {
     "delete_cmd_postfix": ") ",
     "delete_cmd_prefix": "rm(",
     "library": "var_list.r",
     "varRefreshCmd": "cat(var_dic_list()) "
    }
   },
   "types_to_exclude": [
    "module",
    "function",
    "builtin_function_or_method",
    "instance",
    "_Feature"
   ],
   "window_display": false
  }
 },
 "nbformat": 4,
 "nbformat_minor": 5
}
