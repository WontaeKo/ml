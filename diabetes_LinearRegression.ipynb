{
 "cells": [
  {
   "cell_type": "markdown",
   "id": "6bf089c6",
   "metadata": {},
   "source": [
    "### sklearn.linear_model.LinearRegression\n",
    "* class sklearn.linear_model.LinearRegression(*, fit_intercept=True, copy_X=True, n_jobs=None, positive=False)[source]¶"
   ]
  },
  {
   "cell_type": "code",
   "execution_count": null,
   "id": "ca1183d5",
   "metadata": {},
   "outputs": [],
   "source": [
    "import matplotlib.pylab as plt\n",
    "from sklearn import linear_model\n",
    "\n",
    "reg = linear_model.LinearRegression()\n",
    "\n",
    "X = [[174], [152], [138], [128], [186]]\n",
    "y = [71,55,46,38,88]\n",
    "reg.fit(X,y) # 학습\n",
    "\n",
    "print(reg.predict([[165]]))\n",
    "\n",
    "# 학습 데이터와 y값을 산포도로 그린다.\n",
    "plt.scatter(X, y, color='black')\n",
    "\n",
    "# 학습 데이터를 입력으로 하여 예측값을 계산한다.\n",
    "y_pred = reg.predict(X)\n",
    "\n",
    "## 학습된 데이터와 예측값으로 선그래프를 그린다.\n",
    "# 계산된 기울기와 y절편을 가지는 직선이 그려진다.\n",
    "plt.plot(X, y_pred, color='blue', linewidth=3)\n",
    "plt.show()"
   ]
  },
  {
   "cell_type": "code",
   "execution_count": null,
   "id": "f812f260",
   "metadata": {},
   "outputs": [],
   "source": [
    "import matplotlib.pylab as plt\n",
    "import numpy as np\n",
    "from sklearn.linear_model import LinearRegression\n",
    "from sklearn import datasets\n",
    "\n",
    "# 당뇨병 데이터 세트를 적재한다.\n",
    "diabetes = datasets.load_diabetes()\n",
    "\n",
    "# 학습데이터와 테스트 데이터를 분리한다.\n",
    "from sklearn.model_selection import train_test_split\n",
    "X_train, X_test, y_train, y_test = train_test_split(diabetes.data, diabetes.target,\n",
    "                                                   test_size=0.2, random_state=0)\n",
    "# 선형 회귀 모델로 학습을 수행한다.\n",
    "model = LinearRegression()\n",
    "model.fit(X_train, y_train)"
   ]
  },
  {
   "cell_type": "code",
   "execution_count": null,
   "id": "228bc73a",
   "metadata": {},
   "outputs": [],
   "source": [
    "# 테스트 데이터로 예측해보자.\n",
    "y_pred = model.predict(X_test)\n",
    "\n",
    "# 실제 데이터와 예측 데이터를 비교해보자.\n",
    "plt.plot(y_test, y_pred, '.')\n",
    "\n",
    "# 직선을 그리기 위하여 완벽한 선형 데이터를 생성한다.\n",
    "x = np.linspace(0,330,100)\n",
    "y = x\n",
    "plt.plot(x,y)\n",
    "plt.show()"
   ]
  },
  {
   "cell_type": "code",
   "execution_count": null,
   "id": "3a8d094f",
   "metadata": {},
   "outputs": [],
   "source": [
    "import numpy as np\n",
    "import matplotlib.pyplot as plt\n",
    "import pandas as pd\n",
    "import seaborn as sns\n",
    "from scipy import stats\n",
    "from sklearn.datasets import load_boston\n",
    "%matplotlib inline\n",
    "\n",
    "# boston 데이터셋 로드\n",
    "boston = load_boston()\n",
    "\n",
    "# boston 데이터셋 DataFrame 변환\n",
    "bostonDF = pd.DataFrame(boston.data, columns = boston.feature_names)\n",
    "\n",
    "# boston dataset의 target array는 주택 가격, PRICE 컬럼으로 DataFrame에 존재\n",
    "bostonDF['PRICE'] = boston.target\n",
    "\n",
    "print(bostonDF.shape)\n",
    "bostonDF.head()"
   ]
  }
 ],
 "metadata": {
  "kernelspec": {
   "display_name": "Python 3 (ipykernel)",
   "language": "python",
   "name": "python3"
  },
  "language_info": {
   "codemirror_mode": {
    "name": "ipython",
    "version": 3
   },
   "file_extension": ".py",
   "mimetype": "text/x-python",
   "name": "python",
   "nbconvert_exporter": "python",
   "pygments_lexer": "ipython3",
   "version": "3.11.1"
  },
  "toc": {
   "base_numbering": 1,
   "nav_menu": {},
   "number_sections": true,
   "sideBar": true,
   "skip_h1_title": false,
   "title_cell": "Table of Contents",
   "title_sidebar": "Contents",
   "toc_cell": false,
   "toc_position": {},
   "toc_section_display": true,
   "toc_window_display": false
  },
  "varInspector": {
   "cols": {
    "lenName": 16,
    "lenType": 16,
    "lenVar": 40
   },
   "kernels_config": {
    "python": {
     "delete_cmd_postfix": "",
     "delete_cmd_prefix": "del ",
     "library": "var_list.py",
     "varRefreshCmd": "print(var_dic_list())"
    },
    "r": {
     "delete_cmd_postfix": ") ",
     "delete_cmd_prefix": "rm(",
     "library": "var_list.r",
     "varRefreshCmd": "cat(var_dic_list()) "
    }
   },
   "types_to_exclude": [
    "module",
    "function",
    "builtin_function_or_method",
    "instance",
    "_Feature"
   ],
   "window_display": false
  }
 },
 "nbformat": 4,
 "nbformat_minor": 5
}
