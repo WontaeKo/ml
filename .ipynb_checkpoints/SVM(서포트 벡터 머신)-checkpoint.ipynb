{
 "cells": [
  {
   "cell_type": "markdown",
   "id": "d5b8a21f",
   "metadata": {},
   "source": [
    "### sklearn.svm.SVC\n",
    "* class sklearn.svm.SVC(*, C=1.0, kernel='rbf', degree=3, gamma='scale', coef0=0.0, shrinking=True, probability=False, tol=0.001, cache_size=200, class_weight=None, verbose=False, max_iter=-1, decision_function_shape='ovr', break_ties=False, random_state=None)[source]¶"
   ]
  },
  {
   "cell_type": "code",
   "execution_count": null,
   "id": "64d02056",
   "metadata": {},
   "outputs": [],
   "source": [
    "from sklearn import datasets\n",
    "iris = datasets.load_iris()\n",
    "X = iris.data\n",
    "y = iris.target\n",
    "from sklearn.model_selection import train_test_split\n",
    "X_train, X_test, y_train, y_test = train_test_split\n",
    "(X, y, test_size = .5)"
   ]
  },
  {
   "cell_type": "code",
   "execution_count": null,
   "id": "12f72382",
   "metadata": {},
   "outputs": [],
   "source": [
    "from sklearn import svm\n",
    "clf = svm.SVC(gamma = 0.001, C=100.)\n",
    "clf.fit(X_train, y_train)\n",
    "predictions = clf.predict(X_test)\n",
    "print(y_test)\n",
    "from sklearn.metrics import accuracy_score\n",
    "print(accuracy_score(y_test, predictions))"
   ]
  },
  {
   "cell_type": "code",
   "execution_count": null,
   "id": "8bb0c541",
   "metadata": {},
   "outputs": [],
   "source": [
    "from sklearn.datasets import load_iris\n",
    "from sklearn.svm import SVC\n",
    "from sklearn.model_selection import GridSearchCV,train_test_split\n",
    "from sklearn.metrics import accuracy_score\n",
    "\n",
    "iris = load_iris()\n",
    "x = iris.data\n",
    "y = iris.target\n",
    "\n",
    "x_train,x_test,y_train,y_test = train_test_split(x,y,test_size=0.5)\n",
    "\n",
    "clf = SVC(gamma=0.001,C=100)\n",
    "clf.fit(x_train,y_train)\n",
    "pred = clf.predict(x_test)\n",
    "acc = accuracy_score(y_test,pred)\n",
    "\n",
    "print(acc)\n",
    "\n",
    "pram = {'C':[1,10,100],\n",
    "       'gamma':[0.1,0.01,0.001]}\n",
    "grid = GridSearchCV(clf,param_grid=pram,cv=3,scoring=\"accuracy\")\n",
    "grid.fit(x_train,y_train)\n",
    "best_clf = grid.best_estimator_\n",
    "best_pred = best_clf.predict(x_test)\n",
    "best_acc = accuracy_score(y_test,best_pred)\n",
    "print(best_acc)"
   ]
  },
  {
   "cell_type": "code",
   "execution_count": null,
   "id": "c2103398",
   "metadata": {},
   "outputs": [],
   "source": [
    "def get_human_dataset():\n",
    "    # 각 데이터 파일들은 공백으로 분리되어 있으므로 read_csv에서 공백 문자를 sep으로 할당\n",
    "    feature_name_df = pd.read_csv('./datasets/human_activity/features.txt',sep='\\s+',\n",
    "           header=None,names=['column_index','column_name'])\n",
    "    # 중복된 피처명을 수정하는 get_new_feature_name_df를 이용 신규 피쳐명 df생성\n",
    "    new_feature_name_df = get_new_feature_name_df(feature_name_df)\n",
    "    \n",
    "    # DF에 피쳐명을 컬럼으로 부여하기 위해 리스트 객체로 다시 변환\n",
    "    feature_name = new_feature_name_df.iloc[:,1].values.tolist()\n",
    "    \n",
    "    # 학습 피처 데이터 셋과 테스트 피처 데이터 셋을 DF로 로딩 컬러명은 feature_name적용\n",
    "    x_train = pd.read_csv('./datasets/human_activity/train/X_train.txt',sep=\"\\s+\",names=feature_name)\n",
    "    x_test = pd.read_csv('./datasets/human_activity/test/X_test.txt',sep=\"\\s+\",names=feature_name)\n",
    "    \n",
    "    # 학습 레이블과 테스트 레이블 데이터를 DF로 할당 컬럼명은 action으로 부여\n",
    "    y_train = pd.read_csv('./datasets/human_activity/train/y_train.txt',sep=\"\\s+\",header=None,names=['action'])\n",
    "    y_test = pd.read_csv('./datasets/human_activity/test/y_test.txt',sep=\"\\s+\",header=None,names=['action'])\n",
    "    \n",
    "    # 로드된 학습/테스트용 DataFrame을 모두 변환\n",
    "    return x_train,x_test,y_train,y_test\n",
    "\n",
    "x_train,x_test,y_train,y_test=get_human_dataset()"
   ]
  },
  {
   "cell_type": "code",
   "execution_count": null,
   "id": "d0b1df5a",
   "metadata": {},
   "outputs": [],
   "source": [
    "### 랜덤포레스트\n",
    "from sklearn.ensemble import RandomForestClassifier\n",
    "from sklearn.model_selection import GridSearchCV\n",
    "from sklearn.metrics import accuracy_score\n",
    "\n",
    "rf_clf = RandomForestClassifier(random_state=156)\n",
    "rf_clf.fit(x_train,y_train)\n",
    "pred = rf_clf.predict(x_test)\n",
    "accuracy = accuracy_score(y_test,pred)\n",
    "print(f'랜덤포레스트 예측 정확도: {accuracy}')\n",
    "print(f'기본 하이퍼파라미터 {rf_clf.get_params()}')\n",
    "\n",
    "\n",
    "### gridsearchcv\n",
    "from sklearn.model_selection import GridSearchCV"
   ]
  },
  {
   "cell_type": "code",
   "execution_count": null,
   "id": "8a9bb747",
   "metadata": {},
   "outputs": [],
   "source": [
    "## 하이퍼파라미터 gridsearchcv\n",
    "param = {'max_depth':[6,8,10,12],\n",
    "        'n_estimators':[100],\n",
    "        'min_samples_leaf':[8,12,18],\n",
    "        'min_samples_split':[8,16,20]}\n",
    "\n",
    "rf_clf = RandomForestClassifier(random_state=156,n_jobs=-1)\n",
    "grid_cv = GridSearchCV(rf_clf,param_grid=param,cv=2,scoring='accuracy',n_jobs=-1)\n",
    "grid_cv.fit(x_train,y_train)\n",
    "best_dt = grid_cv.best_estimator_\n",
    "\n",
    "### 변수선택\n",
    "ftf_importances_values = best_dt.feature_importances_\n",
    "importances = pd.Series(ftf_importances_values,index=x_train.columns)\n",
    "top10 = importances.sort_values(ascending=False)[:10]"
   ]
  },
  {
   "cell_type": "code",
   "execution_count": null,
   "id": "d11ff11e",
   "metadata": {},
   "outputs": [],
   "source": [
    "top10_index = top10.index\n",
    "x_train_10 = x_train.loc[:,top10_index]\n",
    "x_test_10 = x_test.loc[:,top10_index]"
   ]
  },
  {
   "cell_type": "code",
   "execution_count": null,
   "id": "d43fc370",
   "metadata": {},
   "outputs": [],
   "source": [
    "from sklearn.svm import SVC\n",
    "from sklearn.model_selection import GridSearchCV\n",
    "from sklearn.metrics import accuracy_score\n",
    "import warnings\n",
    "warnings.filterwarnings('ignore')\n",
    "\n",
    "\n",
    "clf = SVC(gamma=0.001,C=100)\n",
    "clf.fit(x_train_10,y_train)\n",
    "pred = clf.predict(x_test_10)\n",
    "acc = accuracy_score(y_test,pred)\n",
    "\n",
    "print(acc)"
   ]
  },
  {
   "cell_type": "code",
   "execution_count": null,
   "id": "88be1478",
   "metadata": {},
   "outputs": [],
   "source": [
    "pram = {'C':[1,10,100],\n",
    "       'gamma':[0.1,0.01,0.001]}\n",
    "grid = GridSearchCV(clf,param_grid=pram,cv=2,scoring=\"accuracy\")\n",
    "grid.fit(x_train_10,y_train)\n",
    "best_clf = grid.best_estimator_\n",
    "best_pred = best_clf.predict(x_test_10)\n",
    "best_acc = accuracy_score(y_test,best_pred)\n",
    "\n",
    "print(best_acc)"
   ]
  }
 ],
 "metadata": {
  "kernelspec": {
   "display_name": "Python 3 (ipykernel)",
   "language": "python",
   "name": "python3"
  },
  "language_info": {
   "codemirror_mode": {
    "name": "ipython",
    "version": 3
   },
   "file_extension": ".py",
   "mimetype": "text/x-python",
   "name": "python",
   "nbconvert_exporter": "python",
   "pygments_lexer": "ipython3",
   "version": "3.11.1"
  },
  "toc": {
   "base_numbering": 1,
   "nav_menu": {},
   "number_sections": true,
   "sideBar": true,
   "skip_h1_title": false,
   "title_cell": "Table of Contents",
   "title_sidebar": "Contents",
   "toc_cell": false,
   "toc_position": {},
   "toc_section_display": true,
   "toc_window_display": false
  },
  "varInspector": {
   "cols": {
    "lenName": 16,
    "lenType": 16,
    "lenVar": 40
   },
   "kernels_config": {
    "python": {
     "delete_cmd_postfix": "",
     "delete_cmd_prefix": "del ",
     "library": "var_list.py",
     "varRefreshCmd": "print(var_dic_list())"
    },
    "r": {
     "delete_cmd_postfix": ") ",
     "delete_cmd_prefix": "rm(",
     "library": "var_list.r",
     "varRefreshCmd": "cat(var_dic_list()) "
    }
   },
   "types_to_exclude": [
    "module",
    "function",
    "builtin_function_or_method",
    "instance",
    "_Feature"
   ],
   "window_display": false
  }
 },
 "nbformat": 4,
 "nbformat_minor": 5
}
